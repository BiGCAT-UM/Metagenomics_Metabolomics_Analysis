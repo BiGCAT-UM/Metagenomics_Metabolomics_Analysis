{
 "cells": [
  {
   "attachments": {},
   "cell_type": "markdown",
   "metadata": {},
   "source": [
    "## Versions\n",
    "\n",
    "Python: 3.7.2\n",
    "\n",
    "pandas: 1.3.5\n",
    "\n",
    "Pip: 23.0.1\n",
    "\n",
    "Biopython: 1.81\n",
    "\n",
    "keggtools: 1.0.1"
   ]
  },
  {
   "attachments": {},
   "cell_type": "markdown",
   "metadata": {},
   "source": [
    "# Retrieve EC codes from Mgx data\n",
    "\n",
    "Install Pandas package from pip:\n",
    "\n",
    "> python -m pip install pandas"
   ]
  },
  {
   "cell_type": "code",
   "execution_count": 2,
   "metadata": {},
   "outputs": [],
   "source": [
    "import pandas as pd\n",
    "\n",
    "Mgx = pd.read_table('../analysis/data/mgxData')\n",
    "\n",
    "# split the column by \":\" and put EC codes in Mgx_EC\n",
    "Mgx_EC = Mgx[\"Gene.Family\"].str.split(\":\", expand=True)[0]"
   ]
  },
  {
   "attachments": {},
   "cell_type": "markdown",
   "metadata": {},
   "source": [
    "# KEGG pathways from EC codes\n",
    "\n",
    "Install Biopython package from pip:\n",
    "\n",
    "> python -m pip install Biopython\n",
    "\n",
    "## Downloading the dictionnary of pathways (per enzyme)\n",
    "\n",
    "This step can be skipped as the dictionnary is stored in /data"
   ]
  },
  {
   "cell_type": "code",
   "execution_count": null,
   "metadata": {},
   "outputs": [],
   "source": [
    "from Bio.KEGG import REST\n",
    "import json\n",
    "\n",
    "pathways_dict = {}\n",
    "for ec_number in Mgx_EC:\n",
    "    if not ec_number.islower(): # against Bad request error from preliminary EC codes (e.g. \"1.3.1.n3\" -> Mgx_EC[430] )\n",
    "        pathways = REST.kegg_link(\"pathway\", ec_number).read().strip().split(\"\\n\")\n",
    "        if not pathways == [\"\"]: # against no responses to request\n",
    "            for pathway in pathways:\n",
    "                pathway_id, pathway_name = pathway.split(\"\\tpath:\")\n",
    "                pathway_id = pathway_id.split(\":\")[1]\n",
    "                if pathway_id not in pathways_dict:\n",
    "                    pathways_dict[pathway_id] = []\n",
    "                pathways_dict[pathway_id].append(pathway_name)\n",
    "\n",
    "with open(\"data/pathways_dict.json\", \"w\") as file:\n",
    "    json.dump(pathways_dict, file)  # encode dict into JSON"
   ]
  },
  {
   "attachments": {},
   "cell_type": "markdown",
   "metadata": {},
   "source": [
    "## Loading the dictionnary of pathways (per enzyme)"
   ]
  },
  {
   "cell_type": "code",
   "execution_count": 3,
   "metadata": {},
   "outputs": [],
   "source": [
    "import json\n",
    "\n",
    "# Open the file for reading\n",
    "with open(\"data/pathways_dict.json\", \"r\") as file:\n",
    "    # Load the dictionary from the file\n",
    "    pathways_dict = json.load(file)"
   ]
  },
  {
   "attachments": {},
   "cell_type": "markdown",
   "metadata": {},
   "source": [
    "# Enrichment preparation\n",
    "\n",
    "The remaining steps will be done in R (cf. enrichment_analysis.Rmd)\n",
    "\n",
    "## Downloading the dictionnary of enzymes (per pathway)\n",
    "\n",
    "This step can also be skipped as the dictionnary is stored in /data"
   ]
  },
  {
   "attachments": {},
   "cell_type": "markdown",
   "metadata": {},
   "source": [
    "Download all ec pathways from KEGG."
   ]
  },
  {
   "cell_type": "code",
   "execution_count": 1,
   "metadata": {},
   "outputs": [],
   "source": [
    "import requests\n",
    "\n",
    "# Define the URL for the KEGG REST API\n",
    "url = 'http://rest.kegg.jp/list/pathway/ec'\n",
    "\n",
    "# Send a GET request to the URL to retrieve the pathway IDs\n",
    "response = requests.get(url)\n",
    "\n",
    "# Parse the response to get the pathway IDs\n",
    "all_pathway_ids = [line.split('\\t')[0] for line in response.text.strip().split('\\n')]"
   ]
  },
  {
   "attachments": {},
   "cell_type": "markdown",
   "metadata": {},
   "source": [
    "Attribute the related enzymes for all the pathways (also filters out pathways without enzymes)"
   ]
  },
  {
   "cell_type": "code",
   "execution_count": null,
   "metadata": {},
   "outputs": [],
   "source": [
    "import re\n",
    "import json\n",
    "\n",
    "ec_pathways = {}\n",
    "\n",
    "for pathway_id in all_pathway_ids:\n",
    "    pathway_url = f'http://rest.kegg.jp/get/{pathway_id}'\n",
    "    pathway_response = requests.get(pathway_url)\n",
    "    pathway_text = pathway_response.text.strip()\n",
    "    \n",
    "    # find the lines containing enzyme information\n",
    "    pattern = r\"ENZYME\\s+(.*?)\\s+COMPOUND\"\n",
    "    enzyme_lines = re.search(pattern, pathway_text, re.DOTALL)\n",
    "    if enzyme_lines:\n",
    "        enzymes = [s.lstrip() for s in enzyme_lines.group(1).strip().split('\\n')]\n",
    "        ec_pathways[pathway_id] = enzymes\n",
    "\n",
    "with open(\"data/all_pathways_enzymes_dict.json\", \"w\") as file:\n",
    "    json.dump(ec_pathways, file)  # encode dict into JSON"
   ]
  },
  {
   "attachments": {},
   "cell_type": "markdown",
   "metadata": {},
   "source": [
    "## Loading the dictionnary of enzymes (per pathway)"
   ]
  },
  {
   "cell_type": "code",
   "execution_count": 1,
   "metadata": {},
   "outputs": [],
   "source": [
    "import json\n",
    "\n",
    "# Open the file for reading\n",
    "with open(\"data/all_pathways_enzymes_dict.json\", \"r\") as file:\n",
    "    # Load the dictionary from the file\n",
    "    all_pathways_enzymes_dict = json.load(file)"
   ]
  },
  {
   "attachments": {},
   "cell_type": "markdown",
   "metadata": {},
   "source": [
    "## Downloading the dictionnary of compounds (per pathway)\n",
    "\n",
    "This step can also be skipped as the dictionnary is stored in /data"
   ]
  },
  {
   "attachments": {},
   "cell_type": "markdown",
   "metadata": {},
   "source": [
    "Attribute the related compounds (metabolites) for all the pathways"
   ]
  },
  {
   "cell_type": "code",
   "execution_count": 3,
   "metadata": {},
   "outputs": [],
   "source": [
    "import re\n",
    "import json\n",
    "\n",
    "mb_pathways = {}\n",
    "\n",
    "for pathway_id in all_pathway_ids:\n",
    "    pathway_url = f'http://rest.kegg.jp/get/{pathway_id}'\n",
    "    pathway_response = requests.get(pathway_url)\n",
    "    pathway_text = pathway_response.text.strip()\n",
    "    \n",
    "    # find the lines containing enzyme information\n",
    "    pattern = r\"COMPOUND\\s+(.*?)\\s+REFERENCE\"\n",
    "    compound_lines = re.search(pattern, pathway_text, re.DOTALL)\n",
    "    if compound_lines:\n",
    "        compound = [s.lstrip() for s in compound_lines.group(1).strip().split('\\n')]\n",
    "        mb_pathways[pathway_id] = compound\n",
    "\n",
    "with open(\"data/all_pathways_compounds_dict.json\", \"w\") as file:\n",
    "    json.dump(mb_pathways, file)  # encode dict into JSON"
   ]
  },
  {
   "attachments": {},
   "cell_type": "markdown",
   "metadata": {},
   "source": [
    "Associate all the KEGG ec pathways with their name"
   ]
  },
  {
   "cell_type": "code",
   "execution_count": 15,
   "metadata": {},
   "outputs": [
    {
     "name": "stdout",
     "output_type": "stream",
     "text": [
      "{'ec00010': 'Glycolysis / Gluconeogenesis', 'ec00020': 'Citrate cycle (TCA cycle)', 'ec00030': 'Pentose phosphate pathway', 'ec00040': 'Pentose and glucuronate interconversions', 'ec00051': 'Fructose and mannose metabolism', 'ec00052': 'Galactose metabolism', 'ec00053': 'Ascorbate and aldarate metabolism', 'ec00500': 'Starch and sucrose metabolism', 'ec00520': 'Amino sugar and nucleotide sugar metabolism', 'ec00620': 'Pyruvate metabolism', 'ec00630': 'Glyoxylate and dicarboxylate metabolism', 'ec00640': 'Propanoate metabolism', 'ec00650': 'Butanoate metabolism', 'ec00660': 'C5-Branched dibasic acid metabolism', 'ec00562': 'Inositol phosphate metabolism', 'ec00190': 'Oxidative phosphorylation', 'ec00195': 'Photosynthesis', 'ec00710': 'Carbon fixation in photosynthetic organisms', 'ec00720': 'Carbon fixation pathways in prokaryotes', 'ec00680': 'Methane metabolism', 'ec00910': 'Nitrogen metabolism', 'ec00920': 'Sulfur metabolism', 'ec00061': 'Fatty acid biosynthesis', 'ec00062': 'Fatty acid elongation', 'ec00071': 'Fatty acid degradation', 'ec00073': 'Cutin, suberine and wax biosynthesis', 'ec00100': 'Steroid biosynthesis', 'ec00120': 'Primary bile acid biosynthesis', 'ec00121': 'Secondary bile acid biosynthesis', 'ec00140': 'Steroid hormone biosynthesis', 'ec00561': 'Glycerolipid metabolism', 'ec00564': 'Glycerophospholipid metabolism', 'ec00565': 'Ether lipid metabolism', 'ec00600': 'Sphingolipid metabolism', 'ec00590': 'Arachidonic acid metabolism', 'ec00591': 'Linoleic acid metabolism', 'ec00592': 'alpha-Linolenic acid metabolism', 'ec01040': 'Biosynthesis of unsaturated fatty acids', 'ec00230': 'Purine metabolism', 'ec00240': 'Pyrimidine metabolism', 'ec00250': 'Alanine, aspartate and glutamate metabolism', 'ec00260': 'Glycine, serine and threonine metabolism', 'ec00270': 'Cysteine and methionine metabolism', 'ec00280': 'Valine, leucine and isoleucine degradation', 'ec00290': 'Valine, leucine and isoleucine biosynthesis', 'ec00300': 'Lysine biosynthesis', 'ec00310': 'Lysine degradation', 'ec00220': 'Arginine biosynthesis', 'ec00330': 'Arginine and proline metabolism', 'ec00340': 'Histidine metabolism', 'ec00350': 'Tyrosine metabolism', 'ec00360': 'Phenylalanine metabolism', 'ec00380': 'Tryptophan metabolism', 'ec00400': 'Phenylalanine, tyrosine and tryptophan biosynthesis', 'ec00410': 'beta-Alanine metabolism', 'ec00430': 'Taurine and hypotaurine metabolism', 'ec00440': 'Phosphonate and phosphinate metabolism', 'ec00450': 'Selenocompound metabolism', 'ec00460': 'Cyanoamino acid metabolism', 'ec00470': 'D-Amino acid metabolism', 'ec00480': 'Glutathione metabolism', 'ec00510': 'N-Glycan biosynthesis', 'ec00513': 'Various types of N-glycan biosynthesis', 'ec00512': 'Mucin type O-glycan biosynthesis', 'ec00515': 'Mannose type O-glycan biosynthesis', 'ec00532': 'Glycosaminoglycan biosynthesis - chondroitin sulfate / dermatan sulfate', 'ec00534': 'Glycosaminoglycan biosynthesis - heparan sulfate / heparin', 'ec00531': 'Glycosaminoglycan degradation', 'ec00563': 'Glycosylphosphatidylinositol (GPI)-anchor biosynthesis', 'ec00601': 'Glycosphingolipid biosynthesis - lacto and neolacto series', 'ec00603': 'Glycosphingolipid biosynthesis - globo and isoglobo series', 'ec00604': 'Glycosphingolipid biosynthesis - ganglio series', 'ec00540': 'Lipopolysaccharide biosynthesis', 'ec00541': 'O-Antigen nucleotide sugar biosynthesis', 'ec00550': 'Peptidoglycan biosynthesis', 'ec00552': 'Teichoic acid biosynthesis', 'ec00571': 'Lipoarabinomannan (LAM) biosynthesis', 'ec00572': 'Arabinogalactan biosynthesis - Mycobacterium', 'ec00730': 'Thiamine metabolism', 'ec00740': 'Riboflavin metabolism', 'ec00750': 'Vitamin B6 metabolism', 'ec00760': 'Nicotinate and nicotinamide metabolism', 'ec00770': 'Pantothenate and CoA biosynthesis', 'ec00780': 'Biotin metabolism', 'ec00785': 'Lipoic acid metabolism', 'ec00790': 'Folate biosynthesis', 'ec00670': 'One carbon pool by folate', 'ec00830': 'Retinol metabolism', 'ec00860': 'Porphyrin metabolism', 'ec00130': 'Ubiquinone and other terpenoid-quinone biosynthesis', 'ec00900': 'Terpenoid backbone biosynthesis', 'ec00902': 'Monoterpenoid biosynthesis', 'ec00909': 'Sesquiterpenoid and triterpenoid biosynthesis', 'ec00904': 'Diterpenoid biosynthesis', 'ec00906': 'Carotenoid biosynthesis', 'ec00905': 'Brassinosteroid biosynthesis', 'ec00981': 'Insect hormone biosynthesis', 'ec00908': 'Zeatin biosynthesis', 'ec00903': 'Limonene degradation', 'ec00907': 'Pinene, camphor and geraniol degradation', 'ec00522': 'Biosynthesis of 12-, 14- and 16-membered macrolides', 'ec01051': 'Biosynthesis of ansamycins', 'ec01059': 'Biosynthesis of enediyne antibiotics', 'ec01056': 'Biosynthesis of type II polyketide backbone', 'ec01057': 'Biosynthesis of type II polyketide products', 'ec00253': 'Tetracycline biosynthesis', 'ec00523': 'Polyketide sugar unit biosynthesis', 'ec01053': 'Biosynthesis of siderophore group nonribosomal peptides', 'ec01055': 'Biosynthesis of vancomycin group antibiotics', 'ec00940': 'Phenylpropanoid biosynthesis', 'ec00945': 'Stilbenoid, diarylheptanoid and gingerol biosynthesis', 'ec00941': 'Flavonoid biosynthesis', 'ec00944': 'Flavone and flavonol biosynthesis', 'ec00942': 'Anthocyanin biosynthesis', 'ec00943': 'Isoflavonoid biosynthesis', 'ec00946': 'Degradation of flavonoids', 'ec00901': 'Indole alkaloid biosynthesis', 'ec00950': 'Isoquinoline alkaloid biosynthesis', 'ec00960': 'Tropane, piperidine and pyridine alkaloid biosynthesis', 'ec00996': 'Biosynthesis of various alkaloids', 'ec00232': 'Caffeine metabolism', 'ec00965': 'Betalain biosynthesis', 'ec00966': 'Glucosinolate biosynthesis', 'ec00402': 'Benzoxazinoid biosynthesis', 'ec00311': 'Penicillin and cephalosporin biosynthesis', 'ec00332': 'Carbapenem biosynthesis', 'ec00261': 'Monobactam biosynthesis', 'ec00331': 'Clavulanic acid biosynthesis', 'ec00521': 'Streptomycin biosynthesis', 'ec00524': 'Neomycin, kanamycin and gentamicin biosynthesis', 'ec00525': 'Acarbose and validamycin biosynthesis', 'ec00401': 'Novobiocin biosynthesis', 'ec00404': 'Staurosporine biosynthesis', 'ec00405': 'Phenazine biosynthesis', 'ec00333': 'Prodigiosin biosynthesis', 'ec00254': 'Aflatoxin biosynthesis', 'ec00998': 'Biosynthesis of various antibiotics', 'ec00999': 'Biosynthesis of various plant secondary metabolites', 'ec00997': 'Biosynthesis of various other secondary metabolites', 'ec00362': 'Benzoate degradation', 'ec00627': 'Aminobenzoate degradation', 'ec00364': 'Fluorobenzoate degradation', 'ec00625': 'Chloroalkane and chloroalkene degradation', 'ec00361': 'Chlorocyclohexane and chlorobenzene degradation', 'ec00623': 'Toluene degradation', 'ec00622': 'Xylene degradation', 'ec00633': 'Nitrotoluene degradation', 'ec00642': 'Ethylbenzene degradation', 'ec00643': 'Styrene degradation', 'ec00791': 'Atrazine degradation', 'ec00930': 'Caprolactam degradation', 'ec00363': 'Bisphenol degradation', 'ec00621': 'Dioxin degradation', 'ec00626': 'Naphthalene degradation', 'ec00624': 'Polycyclic aromatic hydrocarbon degradation', 'ec00365': 'Furfural degradation', 'ec00984': 'Steroid degradation', 'ec00980': 'Metabolism of xenobiotics by cytochrome P450', 'ec00982': 'Drug metabolism - cytochrome P450', 'ec00983': 'Drug metabolism - other enzymes', 'ec00970': 'Aminoacyl-tRNA biosynthesis'}\n"
     ]
    }
   ],
   "source": [
    "from bioservices import KEGG\n",
    "import json\n",
    "\n",
    "# initialize the KEGG API object and pathway name dictionary\n",
    "kegg = KEGG()\n",
    "\n",
    "pathway_names = {}\n",
    "\n",
    "# define the EC pathway code\n",
    "for ec_code in all_pathways_enzymes_dict.keys():\n",
    "    # get the pathway information for the given EC code\n",
    "    pathway_info = kegg.get(ec_code)\n",
    "    # extract the pathway name from the information\n",
    "    pathway_name = pathway_info.split('\\n')[1]\n",
    "    # split the string at the first occurrence of 'NAME'\n",
    "    pathway_name = pathway_name.split('NAME', 1)[1]\n",
    "    # remove leading and trailing whitespace characters\n",
    "    pathway_name = pathway_name.strip()\n",
    "    # add the new pathway name entry to the dict\n",
    "    pathway_names[ec_code] = pathway_name\n",
    "\n",
    "with open(\"data/ec_pathway_names_dict.json\", \"w\") as file:\n",
    "    json.dump(pathway_names, file)  # encode dict into JSON"
   ]
  },
  {
   "attachments": {},
   "cell_type": "markdown",
   "metadata": {},
   "source": [
    "## Loading the dictionnary of compounds (per pathway)"
   ]
  },
  {
   "cell_type": "code",
   "execution_count": 16,
   "metadata": {},
   "outputs": [],
   "source": [
    "import json\n",
    "\n",
    "# Open the file for reading\n",
    "with open(\"data/all_pathways_compounds_dict.json\", \"r\") as file:\n",
    "    # Load the dictionary from the file\n",
    "    mb_pathways = json.load(file)"
   ]
  }
 ],
 "metadata": {
  "kernelspec": {
   "display_name": "Python 3",
   "language": "python",
   "name": "python3"
  },
  "language_info": {
   "codemirror_mode": {
    "name": "ipython",
    "version": 3
   },
   "file_extension": ".py",
   "mimetype": "text/x-python",
   "name": "python",
   "nbconvert_exporter": "python",
   "pygments_lexer": "ipython3",
   "version": "3.7.2"
  },
  "orig_nbformat": 4
 },
 "nbformat": 4,
 "nbformat_minor": 2
}
