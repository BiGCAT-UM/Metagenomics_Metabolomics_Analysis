{
    "cells": [
        {
            "attachments": {},
            "cell_type": "markdown",
            "metadata": {},
            "source": [
                "## download and install required packages\n"
            ]
        },
        {
            "cell_type": "code",
            "execution_count": null,
            "metadata": {
                "vscode": {
                    "languageId": "r"
                }
            },
            "outputs": [],
            "source": [
                "\n",
                "#install required packages\n",
                "remotes::install_github('aberHRML/metabolighteR')\n",
                "if(!\"metabolighteR\" %in% installed.packages()){install.packages(\"metabolighteR\")}\n",
                "if(!\"tidyverse\" %in% installed.packages()){install.packages(\"tidyverse\")}\n",
                "if(!\"dplyr\" %in% installed.packages()){install.packages(\"dplyr\")}\n",
                "if(!\"stringr\" %in% installed.packages()){install.packages(\"stringr\")}\n",
                "if(!\"ggplot2\" %in% installed.packages()){install.packages(\"ggplot2\")}\n",
                "if(!\"ggrepel\" %in% installed.packages()){install.packages(\"ggrepel\")}\n",
                "if(!\"rJava\" %in% installed.packages()){install.packages(\"rJava\")}\n",
                "if(!\"jsonlite\" %in% installed.packages()){install.packages(\"jsonlite\")}\n",
                "if(!\"clusterProfiler\" %in% installed.packages()){install.packages(\"clusterProfiler\")}\n",
                "\n",
                "#load required packages\n",
                "library(metabolighteR)\n",
                "library(tidyverse)\n",
                "library(dplyr)\n",
                "library(httr)\n",
                "library(stringr)\n",
                "library(ggplot2)\n",
                "library(ggrepel)\n",
                "library(rJava)\n",
                "library(jsonlite)\n",
                "library(clusterProfiler)"
            ]
        },
        {
            "attachments": {},
            "cell_type": "markdown",
            "metadata": {},
            "source": [
                "\n",
                "## Retrieve the data from Metaboligths data source\n"
            ]
        },
        {
            "cell_type": "code",
            "execution_count": null,
            "metadata": {
                "vscode": {
                    "languageId": "r"
                }
            },
            "outputs": [],
            "source": [
                "BASE_URL <- \"https://www.ebi.ac.uk:443/metabolights/ws\"\n",
                "study <- 'MTBLS3233' # this study ID can be replaced by the dataset ID captured in Fairspace\n",
                "\n",
                "#get all available files for the study\n",
                "allFiles <- metabolighteR::get_study_files(study, raw_data = FALSE)\n",
                "#to get file/files ends with \"maf.tsv\"\n",
                "selectedFiles <- allFiles[grepl(\"maf.tsv\", allFiles$file),]\n",
                "\n",
                "#the first and second contains same samples but different peak intensity values \n",
                "#for now we will only do analysis for the first profiling file\n",
                "query <- paste0(BASE_URL, \"/studies/\",study,\"/download?file=\", selectedFiles$file[1])\n",
                "metabolites <-  httr::GET (url = query, httr::add_headers(user_token = getOption('MTBLS_API_KEY'))) %>% \n",
                "                    content(as = \"text\") %>% \n",
                "                    read_delim(delim = \"\\t\") %>% \n",
                "                    as_tibble()\n",
                "\n",
                "# following is for the second profiling data, uncomment it when needed\n",
                "# query2 <- paste0(BASE_URL, \"/studies/\",study,\"/download?file=\", selectedFiles$file[2])\n",
                "# metabolites2 <-  httr::GET (url = query2, httr::add_headers(user_token = getOption('MTBLS_API_KEY'))) %>%\n",
                "#                    content(as = \"text\") %>%\n",
                "#                    read_delim(delim = \"\\t\") %>%\n",
                "#                    as_tibble()\n",
                "\n",
                "#to get metadata\n",
                "metaFile <- allFiles [allFiles$type==\"metadata_sample\",]\n",
                "query <- paste0(BASE_URL, \"/studies/\",study,\"/download?file=\", metaFile$file)\n",
                "metadata <-  httr::GET (url = query, httr::add_headers(user_token = getOption('MTBLS_API_KEY'))) %>% \n",
                "                    content(as = \"text\") %>% \n",
                "                    read_delim(delim = \"\\t\") %>% \n",
                "                    as_tibble()\n"
            ]
        },
        {
            "attachments": {},
            "cell_type": "markdown",
            "metadata": {},
            "source": [
                "\n",
                "## Modify the retrieved data (metadata and count data)\n"
            ]
        },
        {
            "cell_type": "code",
            "execution_count": null,
            "metadata": {
                "vscode": {
                    "languageId": "r"
                }
            },
            "outputs": [],
            "source": [
                "#drop NA values for factor value\n",
                "#metadata <- metadata %>% drop_na (`Factor Value[Disease]`, )\n",
                "\n",
                "#remove NA values from the column containing \"Factor\" string, since the column \"Factor\" would be the compared column\n",
                "metadata <- metadata %>% filter(rowSums(is.na(.[ , grep(\"Factor\", colnames(.))])) != ncol(.[ , grep(\"Factor\", colnames(.))]))\n",
                "\n",
                "#take only two columns\n",
                "metadata <- metadata[,grepl(\"Factor\", colnames(metadata)) | grepl(\"Sample Name\", colnames(metadata))]\n",
                "#metadata <- metadata[ ,c(\"Factor Value[Disease]\", \"Sample Name\")] # remove disease, check sample name \n",
                "colnames(metadata) <- c(\"Sample\",\"Factor\") \n",
                "\n",
                "#filter out columns for metabolites data\n",
                "columns <- metabolites %>% dplyr::select(database_identifier,chemical_formula,metabolite_identification)\n",
                "\n",
                "#take only samples in metabolites occurring in the metadata\n",
                "names.use <- names(metabolites)[ names(metabolites) %in% metadata$Sample]\n",
                "#update mbx data with used sample names\n",
                "metabolites <- metabolites [ ,names.use]\n",
                "\n",
                "#order data based on column names\n",
                "metabolites <- metabolites[ , order(names(metabolites),decreasing=TRUE)]\n",
                "#add first selected description columns again\n",
                "metabolites <- cbind(columns, metabolites)\n",
                "#remove rows containing \"unknown\" values for database identifier column\n",
                "metabolites <- metabolites[!grepl(\"unknown\", metabolites$database_identifier),]\n",
                "#remove rows containing NA values for database identifier column\n",
                "metabolites <- metabolites %>% drop_na (`database_identifier`, )\n",
                "\n",
                "#order metadata based on sample name\n",
                "metadata <- metadata[ order(metadata$Sample,decreasing=TRUE),]\n",
                "\n",
                "rm(allFiles,columns,metaFile, selectedFiles, BASE_URL,names.use, query, study)"
            ]
        },
        {
            "attachments": {},
            "cell_type": "markdown",
            "metadata": {},
            "source": [
                "\n",
                "## Preprocessing metabolomics data before statistical analysis\n"
            ]
        },
        {
            "cell_type": "code",
            "execution_count": null,
            "metadata": {
                "vscode": {
                    "languageId": "r"
                }
            },
            "outputs": [],
            "source": [
                "#Remove metabolites has NA value for more than 50%\n",
                "columns <- ncol(metabolites)\n",
                "rows <- nrow(metabolites)\n",
                "#detect how many NA values exist per metabolite\n",
                "nofNAperMet <- rowSums(is.na(metabolites[,4:columns]))\n",
                "#calculate fifty percent of total columns\n",
                "fifty_percent <- floor((columns)/2)\n",
                "mSet_MissingDataCounted <- cbind(metabolites, nofNAperMet)\n",
                "mSet_NoMissingData <- subset(mSet_MissingDataCounted, nofNAperMet <= fifty_percent)\n",
                "#Remove last column for further processing.\n",
                "mSet_NoMissingData <- subset(mSet_NoMissingData, select=-c(nofNAperMet))\n",
                "\n",
                "#Convert intensity data to numeric values                         \n",
                "mSet_NoMissingData[, c(4:columns)] <- apply(mSet_NoMissingData[, c(4:columns)],2, function(x) as.numeric(as.character(x)))\n",
                "transformation <- \"log_2\" \n",
                "\n",
                "if(transformation == \"cube_root\"){\n",
                "    mSet_transformed <-  mSet_NoMissingData[, c(4:columns)]^(1/3)\n",
                "}else if(transformation == \"square_root\"){\n",
                "    mSet_transformed <-  mSet_NoMissingData[, c(4:columns)]^(1/2)\n",
                "}else if(transformation == \"log_2\"){\n",
                "    mSet_transformed <-  log2(mSet_NoMissingData[, c(4:columns)])\n",
                "}else if(transformation == \"log_10\"){\n",
                "    mSet_transformed <- log10(mSet_NoMissingData[, c(4:columns)])\n",
                "}else{print(\"Warning: name for transformation not recognized\")}\n",
                "\n",
                "#add description columns to the transformed data\n",
                "mSet_transformed <- cbind(mSet_NoMissingData[,c(1:3)], mSet_transformed)\n",
                "\n",
                "write.csv(mSet_transformed$database_identifier,\"IDs.csv\", row.names = FALSE, quote = FALSE)\n"
            ]
        },
        {
            "attachments": {},
            "cell_type": "markdown",
            "metadata": {},
            "source": [
                "\n",
                "## Visualize and test whether the transformation is good for the transformed data\n"
            ]
        },
        {
            "cell_type": "code",
            "execution_count": null,
            "metadata": {
                "vscode": {
                    "languageId": "r"
                }
            },
            "outputs": [],
            "source": [
                "## Visualize the data after the transformation (for one sample to get an idea of suitability of transformation:\n",
                "#create histogram for original distribution for first column with data\n",
                "hist(mSet_NoMissingData[,4], col='steelblue', main='Original')\n",
                "#create histogram for log-transformed distribution \n",
                "hist(mSet_transformed[,4], col='coral2', main=transformation)\n",
                "\n",
                "## Testing if the transformation creates a normally distributed dataset (alpha >= 0.05)\n",
                "##Calculate all Shapiro values for raw and transformed data:\n",
                "mSet_NoMissingData_Shapiro <- lapply(mSet_NoMissingData[,c(4:columns)], shapiro.test)\n",
                "mSet_transformed_Shapiro <- lapply(mSet_transformed[,c(4:columns)], shapiro.test)\n",
                "\n",
                "#Obtain the p-values for raw and transformed data\n",
                "mSet_NoMissingData_Shapiro_pvalues <- do.call(rbind, mSet_NoMissingData_Shapiro)\n",
                "mSet_transformed_Shapiro_pvalues <- do.call(rbind, mSet_transformed_Shapiro)\n",
                "\n",
                "## Count how often the p-value is above 0.05, to obtain an estimate of achieved normality due to transformation\n",
                "mSet_NoMissingData_Shapiro_pvalues_sum <- sum(mSet_NoMissingData_Shapiro_pvalues[,2] >= 0.05, na.rm=TRUE)\n",
                "mSet_transformed_Shapiro_pvalues_sum <- sum(mSet_transformed_Shapiro_pvalues[,2] >= 0.05, na.rm=TRUE)\n",
                "eighty_percent <- floor(((columns)/10)*8)\n",
                "\n",
                "#Print relevant information:\n",
                "if(mSet_transformed_Shapiro_pvalues_sum[1] > eighty_percent ){paste0(\"Data after \", transformation ,\" transformation seems to follow a normal distribution for more then 80% of your data\")} else{\n",
                "  print(\"Advised to select a different data transformation procedure\")}\n",
                "\n",
                "remove( mSet_MissingDataCounted, mSet_NoMissingData, mSet_NoMissingData_Shapiro, mSet_NoMissingData_Shapiro_pvalues, mSet_transformed_Shapiro, mSet_transformed_Shapiro_pvalues, eighty_percent, fifty_percent, mSet_NoMissingData_Shapiro_pvalues_sum, mSet_transformed_Shapiro_pvalues_sum)\n"
            ]
        },
        {
            "attachments": {},
            "cell_type": "markdown",
            "metadata": {},
            "source": [
                "\n",
                "## Statistical analysis\n"
            ]
        },
        {
            "cell_type": "code",
            "execution_count": null,
            "metadata": {
                "vscode": {
                    "languageId": "r"
                }
            },
            "outputs": [],
            "source": [
                "#Create backup of data\n",
                "mSet_transformed.b <- mSet_transformed\n",
                "mSet_FINAL <- mSet_transformed\n",
                "\n",
                "#get the first disease \n",
                "factor <- colnames(mSet_FINAL)[c(4:columns)]\n",
                "#Find relevant columns per group.\n",
                "columns_factor <- sum(str_count(colnames(mSet_FINAL)[c(4:columns)], factor))\n",
                "end_factor <- columns_factor\n",
                "\n",
                "##calculate logFC for 2 groups, ignoring missing values (NAs) when calculating the mean.  \n",
                "group1 = apply(mSet_FINAL[,4:end_factor], 1, mean, na.rm=TRUE)\n",
                "group2 = apply(mSet_FINAL[,(end_factor+1):ncol(mSet_FINAL)], 1, mean, na.rm=TRUE)\n",
                "\n",
                "#once the metabolomics data is log2 transformed, we need to take the difference between the means \n",
                "#(iso dividing the means over one another), since log2 Fold Change or log2 Ratio == log2(condition / control). \n",
                "#Note: if the transformation step applied is cube_root or square_root, one needs to divide control over disease for this step!\n",
                "  if(transformation == \"log2\"){\n",
                "    foldchange <-  group1 - group2\n",
                "  } else if(transformation == \"log10\"){\n",
                "    foldchange <-  log2((10^group1)/(10^group2))\n",
                "  } else {\n",
                "    foldchange<- log2(group1 /group2 )\n",
                "  }\n",
                "\n",
                "mSet_AnalysisReady <- cbind(mSet_FINAL, foldchange)\n",
                "\n",
                "##Calculate p-value for two groups based on t-test\n",
                "##general function to store p-values for multiple rows:\n",
                "ttest_mSet <- function(df, grp1, grp2) {\n",
                "  x = df[grp1]\n",
                "  y = df[grp2]\n",
                "  x = as.numeric(x)\n",
                "  y = as.numeric(y)  \n",
                "  results = t.test(x, y)\n",
                "  results$p.value\n",
                "}\n",
                "p_values <- apply(mSet_FINAL, 1, ttest_mSet, grp1 = c(4:end_factor), grp2 = c((end_factor+1):ncol(mSet_FINAL)))\n",
                "\n",
                "##Add p_values column to analysis dataset:\n",
                "mSet_AnalysisReady <- cbind(mSet_AnalysisReady, p_values)\n",
                "\n",
                "#Convert logFC and p-values columns to numeric values            \n",
                "mSet_AnalysisReady <- as.data.frame(mSet_AnalysisReady)\n",
                "\n",
                "mSet_AnalysisReady[ , c('foldchange','p_values')] <- apply(mSet_AnalysisReady[ , c('foldchange','p_values')], 2, function(x) as.numeric(as.character(x)))\n"
            ]
        },
        {
            "attachments": {},
            "cell_type": "markdown",
            "metadata": {},
            "source": [
                "\n",
                "## Volcano Plot to visualize the statistical analysis results \n"
            ]
        },
        {
            "cell_type": "code",
            "execution_count": null,
            "metadata": {
                "vscode": {
                    "languageId": "r"
                }
            },
            "outputs": [],
            "source": [
                "# Inspired by: https://biocorecrg.github.io/CRG_RIntroduction/volcano-plots.html\n",
                "# Define the thresholds for log2 (Fold Change) and p-values\n",
                "# For cut-off value uncertainties, see https://doi.org/10.1039/C6AN01342B .\n",
                "log2FC_min <- -0.26\n",
                "log2FC_max <-  0.26\n",
                "p_value_threshold <- 0.05\n",
                "\n",
                "##Create column with HMDB_IDs, only if the data is relevant\n",
                "mSet_AnalysisReady$relevant_labels <- mSet_AnalysisReady$database_identifier\n",
                "mSet_AnalysisReady$relevant_labels[!((mSet_AnalysisReady$foldchange <= log2FC_min \n",
                "                                    | mSet_AnalysisReady$foldchange >= log2FC_max) \n",
                "                                    &  mSet_AnalysisReady$p_values <= p_value_threshold)] <- NA\n",
                "\n",
                "##volcanoPlot_Disorder \n",
                "volcanoPlot_disorder <- ggplot(data=mSet_AnalysisReady, aes(x=foldchange, y=-log10(p_values), \n",
                "                                                            label=relevant_labels)) + geom_point() + \n",
                "                                                            theme_minimal() + geom_text_repel()\n",
                "\n",
                "## Add vertical lines for FoldChange and P-value thresholds:\n",
                "volcanoPlot_disorder <- volcanoPlot_disorder + geom_vline(xintercept=c(log2FC_min, log2FC_max), col=\"blue\") +\n",
                "    geom_hline(yintercept=-log10(p_value_threshold), col=\"red\") + theme(plot.background = element_rect(fill = \"white\"))\n",
                "\n",
                "disorderName <- \"Factor\"\n",
                "\n",
                "titleVolcano <- paste0(\"Volcano plot of \", transformation, \" transformed data for \", disorderName )\n",
                "verticalAxisTitle <- paste0(transformation, \" Fold Change, \", disorderName, \" versus control \")\n",
                "\n",
                "## Add title and update axis labels:\n",
                "volcanoPlot_disorder <- volcanoPlot_disorder + ggtitle(titleVolcano) + labs(y = \"-log10(p-value)\", x = verticalAxisTitle)\n",
                "\n",
                "# Show the Volcano plot in the notebook output:\n",
                "volcanoPlot_disorder\n"
            ]
        },
        {
            "attachments": {},
            "cell_type": "markdown",
            "metadata": {},
            "source": [
                "\n",
                "## Select statistically significant enzymes\n"
            ]
        },
        {
            "cell_type": "code",
            "execution_count": null,
            "metadata": {
                "vscode": {
                    "languageId": "r"
                }
            },
            "outputs": [],
            "source": [
                "# Select statistically significant enzymes\n",
                "sigMets <- mSet_AnalysisReady[which(p_values<0.05),]\n",
                "sigMets$pValue <- p_values[which(p_values<0.05)]"
            ]
        },
        {
            "attachments": {},
            "cell_type": "markdown",
            "metadata": {},
            "source": [
                "# Get pathway data with compound transformation\n",
                "The following Shinyapp was used to map HMDB IDs to KEGG IDs\n",
                "https://tabbassidaloii.shinyapps.io/BridgeDb-Shiny/\n",
                "\n",
                "## BridgeDB identifier mapping\n",
                "## it does not work properly need to check again failed to create mapper object!\n"
            ]
        },
        {
            "attachments": {},
            "cell_type": "markdown",
            "metadata": {},
            "source": [
                "\n",
                "## To get mapped file for KEGG compound and CHEBI ids\n"
            ]
        },
        {
            "cell_type": "code",
            "execution_count": null,
            "metadata": {
                "vscode": {
                    "languageId": "r"
                }
            },
            "outputs": [],
            "source": [
                "# Read KEGG compound to HMDB list\n",
                "compound.CHEBI <- read.table(file = \"data/XrefBatch_mapping_BridgeDB-Shiny.csv\", sep = ',', header = TRUE)\n",
                "# Remove ... columns\n",
                "compound.CHEBI <- compound.CHEBI[, -c(2,4)]\n",
                "# Change column names\n",
                "colnames(compound.CHEBI) <- c(\"database_identifier\", \"compound\")\n",
                "\n",
                "#remove(mbxCount.log.CD, mbxCount.log.UC, mbxCount.log.nonIBD)\n"
            ]
        },
        {
            "attachments": {},
            "cell_type": "markdown",
            "metadata": {},
            "source": [
                "\n",
                "## Pathway Analysis\n"
            ]
        },
        {
            "cell_type": "code",
            "execution_count": null,
            "metadata": {
                "vscode": {
                    "languageId": "r"
                }
            },
            "outputs": [],
            "source": [
                "# Merge the KEGG compound to the full metabolomics data\n",
                "sigMets <- merge(sigMets, compound.CHEBI, by = \"database_identifier\", all.x = TRUE)\n",
                "#length(which(is.na(deg.CD$compound)))\n",
                "# remove NAs for compounds\n",
                "sigMets <- sigMets[!is.na(sigMets$compound), ]\n",
                "# Relocate the compound column as first\n",
                "sigMets <- sigMets %>% relocate(compound)\n"
            ]
        },
        {
            "attachments": {},
            "cell_type": "markdown",
            "metadata": {},
            "source": [
                "## Calculate the ORA score for each pathway\n",
                "\n",
                "\n",
                "### ORA score for Ulcerative colitis (UC)\n"
            ]
        },
        {
            "cell_type": "code",
            "execution_count": null,
            "metadata": {
                "vscode": {
                    "languageId": "r"
                }
            },
            "outputs": [],
            "source": [
                "# Read JSON file with all the pathways and the compounds within into R object\n",
                "PW.to.compound <- fromJSON(\"data/all_pathways_compounds_dict.json\")\n",
                "# Read JSON file with all the pathways codes and their names within into R object\n",
                "PW.all.names <- fromJSON(\"data/ec_pathway_names_dict.json\")\n",
                "\n",
                "# Transform PW to compound for further analysis\n",
                "PW.to.compound <- as.data.frame(t(as.data.frame(sapply(PW.to.compound, rbind))))\n",
                "PW.to.compound$pathway <- rownames(PW.to.compound)\n",
                "colnames(PW.to.compound) <- c(\"compound\", \"pathway\")\n",
                "PW.to.compound <- PW.to.compound[,c(2,1)]\n",
                "PW.to.compound$pathway <- sub(\"\\\\..*\", \"\", PW.to.compound$pathway)\n",
                "PW.to.compound$compound <- sub(\"\\\\s\\\\s.*\", \"\", PW.to.compound$compound)\n",
                "\n",
                "PW.to.name <- data.frame(\"pathway\"=names(PW.all.names), \"name\"=unlist(PW.all.names))\n",
                "\n",
                "# Perform Pathway enrichment\n",
                "res<- clusterProfiler::enricher(gene=as.factor(unlist(sigMets)),\n",
                "                TERM2GENE = PW.to.compound,\n",
                "                TERM2NAME = PW.to.name)\n",
                "\n",
                "as.data.frame(res)\n"
            ]
        },
        {
            "attachments": {},
            "cell_type": "markdown",
            "metadata": {},
            "source": [
                "## Plot the results in a horizontal bar chart\n",
                "\n"
            ]
        },
        {
            "cell_type": "code",
            "execution_count": null,
            "metadata": {
                "vscode": {
                    "languageId": "r"
                }
            },
            "outputs": [],
            "source": [
                "# Horizontal bar plot of significant pathways in UC\n",
                "res[which(res$p.adjust < 0.05),] %>% \n",
                "  ggplot(aes(reorder(as.character(Description), Count), Count)) + \n",
                "  geom_col(aes(fill = p.adjust)) + \n",
                "  scale_fill_gradient2(low = \"#0000ff\", \n",
                "                       mid = \"#ff0000\",\n",
                "                       high= \"yellow\",\n",
                "                       midpoint = 0.001) +\n",
                "  coord_flip() + \n",
                "  labs(x = \"Pathways\", y = \"Significanlty changed metabolites count\")\n"
            ]
        },
        {
            "attachments": {},
            "cell_type": "markdown",
            "metadata": {},
            "source": [
                "## Writing output tables in csv file\n",
                "\n"
            ]
        },
        {
            "cell_type": "code",
            "execution_count": null,
            "metadata": {
                "vscode": {
                    "languageId": "r"
                }
            },
            "outputs": [],
            "source": [
                "# Write the output in a file\n",
                "write.table(res, \"output/mbxPWdata.csv\", sep =\",\", row.names = FALSE)\n"
            ]
        },
        {
            "attachments": {},
            "cell_type": "markdown",
            "metadata": {},
            "source": [
                "\n",
                "\n"
            ]
        }
    ],
    "metadata": {
        "anaconda-cloud": "",
        "kernelspec": {
            "display_name": "R",
            "langauge": "R",
            "name": "ir"
        },
        "language_info": {
            "codemirror_mode": "r",
            "file_extension": ".r",
            "mimetype": "text/x-r-source",
            "name": "R",
            "pygments_lexer": "r",
            "version": "3.4.1"
        }
    },
    "nbformat": 4,
    "nbformat_minor": 1
}
