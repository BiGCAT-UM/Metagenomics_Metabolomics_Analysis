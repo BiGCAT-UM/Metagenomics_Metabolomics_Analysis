{
    "cells": [
        {
            "cell_type": "markdown",
            "metadata": {},
            "source": [
                "## Libraries\n",
                "\n"
            ]
        },
        {
            "cell_type": "code",
            "execution_count": null,
            "metadata": {},
            "outputs": [],
            "source": [
                "# Check if libraries are already installed > otherwise install it\n",
                "if(!requireNamespace(\"BiocManager\", quietly = TRUE)) install.packages(\"BiocManager\",repos = \"http://cran.us.r-project.org\")\n",
                "if(!\"knitr\" %in% installed.packages()) BiocManager::install(\"knitr\")\n",
                "if(!\"jsonlite\" %in% installed.packages()) BiocManager::install(\"jsonlite\")\n",
                "if(!\"dplyr\" %in% installed.packages()) BiocManager::install(\"dplyr\")\n",
                "if(!\"clusterProfiler\" %in% installed.packages()) BiocManager::install(\"clusterProfiler\")\n",
                "if(!\"ggplot2\" %in% installed.packages()) BiocManager::install(\"ggplot2\")\n",
                "\n",
                "# Load packages\n",
                "library(knitr)\n",
                "library(jsonlite)\n",
                "library(dplyr)\n",
                "library(clusterProfiler)\n",
                "library(ggplot2)\n"
            ]
        },
        {
            "cell_type": "markdown",
            "metadata": {},
            "source": [
                "## Generate HMDB.csv for data annotation\n",
                "\n",
                "This can be skipped...\n"
            ]
        },
        {
            "cell_type": "code",
            "execution_count": null,
            "metadata": {},
            "outputs": [],
            "source": [
                "# Sets current path as working file path for all code chuncks\n",
                "knitr::opts_knit$set(root.dir = \".\")\n",
                "\n",
                "# Read  the metabolomics data file\n",
                "mbxCount <- read.table(file = \"../preprocessing/output/mbxData\", sep = '\\t', header = TRUE)\n",
                "# Read metadata file sample labels\n",
                "metaData <- read.table(file = \"../preprocessing/output/mbxMetaData\", sep = '\\t', stringsAsFactors = TRUE, header = TRUE)\n",
                "\n",
                "# Read JSON file with all the pathways and the compounds within into R object\n",
                "PW.to.compound <- fromJSON(\"data/all_pathways_compounds_dict.json\")\n",
                "# Read JSON file with all the pathways codes and their names within into R object\n",
                "PW.all.names <- fromJSON(\"data/ec_pathway_names_dict.json\")\n"
            ]
        },
        {
            "cell_type": "markdown",
            "metadata": {},
            "source": [
                "## Filtering Steps\n",
                "\n",
                "We will apply some filtering process to filter out genes in the input data\n"
            ]
        },
        {
            "cell_type": "code",
            "execution_count": null,
            "metadata": {},
            "outputs": [],
            "source": [
                "# Remove genes which has all zero values for all samples then start DE analysis\n",
                "mbxCount[is.na(mbxCount)] <- 0\n",
                "nonzero <- rowSums(mbxCount[,c(3:ncol(mbxCount))]) > 0\n",
                "mbxCount <- mbxCount[nonzero,]\n",
                "\n",
                "# Remove rows with more than 50% of 0 values\n",
                "removeLines <- rowSums(is.na(mbxCount[,3:ncol(mbxCount)]))\n",
                "fifty_percent <- floor((ncol(mbxCount))/2)\n",
                "MissingDataCounted <- cbind(mbxCount, removeLines)\n",
                "NoMissingData <- subset(MissingDataCounted, removeLines <= fifty_percent)\n",
                "#Remove last column for further processing.\n",
                "NoMissingData <- subset(NoMissingData, select=-c(removeLines))\n",
                "NoMissingData[, c(3:ncol(NoMissingData))] <- apply(NoMissingData[, c(3:ncol(NoMissingData))],2, function(x) as.numeric(as.character(x)))\n",
                "\n",
                "remove(nonzero, removeLines, fifty_percent, MissingDataCounted)\n"
            ]
        },
        {
            "cell_type": "markdown",
            "metadata": {},
            "source": [
                "## T-tests\n",
                "\n"
            ]
        },
        {
            "cell_type": "code",
            "execution_count": null,
            "metadata": {},
            "outputs": [],
            "source": [
                "# Separate CD, UC and nonIBD\n",
                "metaData.CD <- metaData[metaData$diagnosis==\"CD\",]\n",
                "metaData.UC <- metaData[metaData$diagnosis==\"UC\",]\n",
                "metaData.nonIBD <- metaData[metaData$diagnosis==\"nonIBD\",]\n",
                "\n",
                "# Select metagenomics data from CD, UC and nonIBD\n",
                "mbxCount.CD <- subset(NoMissingData, select=metaData.CD$External.ID)\n",
                "mbxCount.UC <- subset(NoMissingData, select=c(1,2, metaData.UC$External.ID))\n",
                "mbxCount.nonIBD <- subset(NoMissingData, select=c(1,2, metaData.nonIBD$External.ID))\n",
                "\n",
                "# Normalization using natural logarithm\n",
                "mbxCount.log.CD <- cbind(mbxCount.CD[,c(1,2)], log2(mbxCount.CD[,3:ncol(mbxCount.CD)]+1))\n",
                "mbxCount.log.UC <- cbind(mbxCount.UC[,c(1,2)], log2(mbxCount.UC[,3:ncol(mbxCount.UC)]+1))\n",
                "mbxCount.log.nonIBD <- cbind(mbxCount.nonIBD[,c(1,2)], log2(mbxCount.nonIBD[,3:ncol(mbxCount.nonIBD)]+1))\n",
                "\n",
                "remove(metaData.CD, metaData.UC, metaData.nonIBD, metaData, mbxCount, NoMissingData, mbxCount.CD, mbxCount.UC, mbxCount.nonIBD)\n"
            ]
        },
        {
            "cell_type": "markdown",
            "metadata": {},
            "source": [
                "### T-tests for Crohn's Disease (CD)\n",
                "\n"
            ]
        },
        {
            "cell_type": "code",
            "execution_count": null,
            "metadata": {},
            "outputs": [],
            "source": [
                "# Compute statistical significance (using t-test)\n",
                "pValue.CD = NULL # Empty list for the p-values\n",
                "\n",
                "for(i in 1 : nrow(mbxCount.log.nonIBD)) { # For each metabolite : \n",
                "\tx = mbxCount.log.nonIBD[i,-(1:2)] # control of metabolite number i\n",
                "\ty = mbxCount.log.CD[i,-(1:2)] # CD of metabolite number i\n",
                "\t\n",
                "\t#x = x[is.finite(x)]\n",
                "\t#y = y[is.finite(y)]\n",
                "\t\n",
                "\t# Compute t-test between the two conditions\n",
                "\tt = t.test(x, y)\n",
                "\t\n",
                "\t# Put the current p-value in the pvalues list\n",
                "\tpValue.CD[i] = t$p.value\n",
                "}\n",
                "\n",
                "# Apply Benjamini Hochberg correction to pvalues to correct for multiple testing\n",
                "#pAdjust.CD = p.adjust(pValue.CD, method=\"BH\", n= nrow(mbxCount.nonIBD))\n",
                "\n",
                "#print(length(which(pValue.CD<0.05)))\n",
                "remove(t, x, y, i)\n"
            ]
        },
        {
            "cell_type": "markdown",
            "metadata": {},
            "source": [
                "### T-tests for Ulcerative colitis (UC)\n",
                "\n"
            ]
        },
        {
            "cell_type": "code",
            "execution_count": null,
            "metadata": {},
            "outputs": [],
            "source": [
                "# Compute statistical significance (using t-test)\n",
                "pValue.UC = NULL # Empty list for the p-values\n",
                "\n",
                "for(i in 1 : nrow(mbxCount.log.nonIBD)) { # For each gene : \n",
                "\tx = mbxCount.log.nonIBD[i,-(1:2)] # control of gene number i\n",
                "\ty = mbxCount.log.UC[i,-(1:2)] # UC of gene number i\n",
                "\t\n",
                "\t# Compute t-test between the two conditions\n",
                "\tt = t.test(x, y)\n",
                "\t\n",
                "\t# Put the current p-value in the pvalues list\n",
                "\tpValue.UC[i] = t$p.value\n",
                "}\n",
                "\n",
                "# Apply Benjamini Hochberg correction to pvalues to correct for multiple testing\n",
                "#pAdjust.UC = p.adjust(pValue.UC, method=\"BH\", n= nrow(mbxCount.nonIBD))\n",
                "\n",
                "#print(length(which(pValue.UC<0.05)))\n",
                "\n",
                "remove(t, x, y, i)\n"
            ]
        },
        {
            "cell_type": "markdown",
            "metadata": {},
            "source": [
                "### Select statistically significant enzymes\n",
                "\n"
            ]
        },
        {
            "cell_type": "code",
            "execution_count": null,
            "metadata": {},
            "outputs": [],
            "source": [
                "# Select statistically significant enzymes\n",
                "deg.CD <- mbxCount.log.CD[which(pValue.CD<0.05),]\n",
                "deg.CD$pValue <- pValue.CD[which(pValue.CD<0.05)]\n",
                "deg.UC <- mbxCount.log.UC[which(pValue.UC<0.05),]\n",
                "deg.UC$pValue <- pValue.UC[which(pValue.UC<0.05)]\n",
                "\n",
                "remove(pValue.CD, pValue.UC)\n"
            ]
        },
        {
            "cell_type": "markdown",
            "metadata": {},
            "source": [
                "## Generate mbxData\n",
                "\n",
                "The following Shinyapp was used to map HMDB IDs to KEGG IDs\n",
                "\n",
                "https://tabbassidaloii.shinyapps.io/BridgeDb-Shiny/\n"
            ]
        },
        {
            "cell_type": "code",
            "execution_count": null,
            "metadata": {},
            "outputs": [],
            "source": [
                "# Read KEGG compound to HMDB list\n",
                "compound.HMDB <- read.table(file = \"data/XrefBatch_mapping_BridgeDB-Shiny.csv\", sep = ',', header = TRUE)\n",
                "# Remove ... columns\n",
                "compound.HMDB <- compound.HMDB[, -c(2,4)]\n",
                "# Change column names\n",
                "colnames(compound.HMDB) <- c(\"HMDB\", \"compound\")\n",
                "\n",
                "remove(mbxCount.log.CD, mbxCount.log.UC, mbxCount.log.nonIBD)\n"
            ]
        },
        {
            "cell_type": "markdown",
            "metadata": {},
            "source": "\n"
        },
        {
            "cell_type": "code",
            "execution_count": null,
            "metadata": {},
            "outputs": [],
            "source": [
                "# Merge the KEGG compound to the full metabolomics data\n",
                "deg.CD <- merge(deg.CD, compound.HMDB, by = \"HMDB\", all.x = TRUE)\n",
                "#length(which(is.na(deg.CD$compound)))\n",
                "# remove NAs for compounds\n",
                "deg.CD <- deg.CD[!is.na(deg.CD$compound), ]\n",
                "# Relocate the compound column as first\n",
                "deg.CD <- deg.CD %>% relocate(compound)\n",
                "\n",
                "# Merge the KEGG compound to the full metabolomics data\n",
                "deg.UC <- merge(deg.UC, compound.HMDB, by = \"HMDB\", all.x = TRUE)\n",
                "#length(which(is.na(deg.UC$compound)))\n",
                "# remove NAs for compounds\n",
                "deg.UC <- deg.UC[!is.na(deg.UC$compound), ]\n",
                "# Relocate the compound column as first\n",
                "deg.UC <- deg.UC %>% relocate(compound)\n",
                "\n",
                "remove(compound.HMDB)\n"
            ]
        },
        {
            "cell_type": "markdown",
            "metadata": {},
            "source": [
                "## Calculate the ORA score for each pathway\n",
                "\n",
                "\n",
                "### ORA score for Ulcerative colitis (UC)\n"
            ]
        },
        {
            "cell_type": "code",
            "execution_count": null,
            "metadata": {},
            "outputs": [],
            "source": [
                "# Transform PW to compound for further analysis\n",
                "PW.to.compound <- as.data.frame(t(as.data.frame(sapply(PW.to.compound, rbind))))\n",
                "PW.to.compound$pathway <- rownames(PW.to.compound)\n",
                "colnames(PW.to.compound) <- c(\"compound\", \"pathway\")\n",
                "PW.to.compound <- PW.to.compound[,c(2,1)]\n",
                "PW.to.compound$pathway <- sub(\"\\\\..*\", \"\", PW.to.compound$pathway)\n",
                "PW.to.compound$compound <- sub(\"\\\\s\\\\s.*\", \"\", PW.to.compound$compound)\n",
                "\n",
                "PW.to.name <- data.frame(\"pathway\"=names(PW.all.names), \"name\"=unlist(PW.all.names))\n",
                "\n",
                "# Perform Pathway enrichment\n",
                "res.UC <- enricher(gene=as.factor(unlist(deg.UC)),\n",
                "                TERM2GENE = PW.to.compound,\n",
                "                TERM2NAME = PW.to.name)\n",
                "\n",
                "as.data.frame(res.UC)\n"
            ]
        },
        {
            "cell_type": "markdown",
            "metadata": {},
            "source": [
                "### ORA score for Crohn's Disease (CD)\n",
                "\n"
            ]
        },
        {
            "cell_type": "code",
            "execution_count": null,
            "metadata": {},
            "outputs": [],
            "source": [
                "# Perform Pathway enrichment\n",
                "res.CD <- enricher(gene=as.factor(unlist(deg.CD)),\n",
                "                TERM2GENE = PW.to.compound,\n",
                "                TERM2NAME = PW.to.name)\n",
                "\n",
                "as.data.frame(res.CD)\n"
            ]
        },
        {
            "cell_type": "markdown",
            "metadata": {},
            "source": [
                "## Plot the results in a horizontal bar chart\n",
                "\n",
                "### Plot for Ulcerative colitis (UC)\n"
            ]
        },
        {
            "cell_type": "code",
            "execution_count": null,
            "metadata": {},
            "outputs": [],
            "source": [
                "# Horizontal bar plot of significant pathways in UC\n",
                "res.UC[which(res.UC$p.adjust < 0.05),] %>% \n",
                "  ggplot(aes(reorder(as.character(Description), Count), Count)) + \n",
                "  geom_col(aes(fill = p.adjust)) + \n",
                "  scale_fill_gradient2(low = \"#0000ff\", \n",
                "                       mid = \"#ff0000\",\n",
                "                       high= \"yellow\",\n",
                "                       midpoint = 0.001) +\n",
                "  coord_flip() + \n",
                "  labs(x = \"Pathways (UC)\", y = \"Enzyme count\")\n"
            ]
        },
        {
            "cell_type": "markdown",
            "metadata": {},
            "source": [
                "### Plot for Crohn's Disease (CD)\n",
                "\n"
            ]
        },
        {
            "cell_type": "code",
            "execution_count": null,
            "metadata": {},
            "outputs": [],
            "source": [
                "res.CD[which(res.CD$p.adjust < 0.05),] %>% \n",
                "  ggplot(aes(reorder(as.character(Description), Count), Count)) + \n",
                "  geom_col(aes(fill = p.adjust)) + \n",
                "  scale_fill_gradient2(low = \"#0000ff\", \n",
                "                       mid = \"#ff0000\",\n",
                "                       high= \"yellow\",\n",
                "                       midpoint = 0.001) +\n",
                "  coord_flip() + \n",
                "  labs(x = \"Pathways (UC)\", y = \"Enzyme count\")\n"
            ]
        },
        {
            "cell_type": "markdown",
            "metadata": {},
            "source": [
                "## Writing output tables in csv file\n",
                "\n"
            ]
        },
        {
            "cell_type": "code",
            "execution_count": null,
            "metadata": {},
            "outputs": [],
            "source": [
                "# Write the output in a file\n",
                "write.table(res.UC, \"output/mbxPWdata_UC.csv\", sep =\",\", row.names = FALSE)\n",
                "\n",
                "# Write the output in a file\n",
                "write.table(res.CD, \"output/mbxPWdata_CD.csv\", sep =\",\", row.names = FALSE)\n"
            ]
        },
        {
            "cell_type": "markdown",
            "metadata": {},
            "source": [
                "## Print session info:\n",
                "\n"
            ]
        },
        {
            "cell_type": "code",
            "execution_count": null,
            "metadata": {},
            "outputs": [],
            "source": [
                "##Print session info:\n",
                "sessionInfo()\n"
            ]
        },
        {
            "cell_type": "markdown",
            "metadata": {},
            "source": [
                "\n",
                "## Creating jupyter notebook files\n"
            ]
        },
        {
            "cell_type": "code",
            "execution_count": null,
            "metadata": {},
            "outputs": [],
            "source": [
                "#Jupyter Notebook file\n",
                "if(!\"devtools\" %in% installed.packages()) BiocManager::install(\"devtools\")\n",
                "devtools::install_github(\"mkearney/rmd2jupyter\", force=TRUE)\n",
                "library(devtools)\n",
                "library(rmd2jupyter)\n",
                "rmd2jupyter(\"metabolomics_analysis.Rmd\")\n"
            ]
        }
    ],
    "metadata": {
        "anaconda-cloud": "",
        "kernelspec": {
            "display_name": "R",
            "langauge": "R",
            "name": "ir"
        },
        "language_info": {
            "codemirror_mode": "r",
            "file_extension": ".r",
            "mimetype": "text/x-r-source",
            "name": "R",
            "pygments_lexer": "r",
            "version": "3.4.1"
        }
    },
    "nbformat": 4,
    "nbformat_minor": 1
}
