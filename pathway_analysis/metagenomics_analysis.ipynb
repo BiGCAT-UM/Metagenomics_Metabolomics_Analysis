{
    "cells": [
        {
            "cell_type": "markdown",
            "metadata": {},
            "source": [
                "## Libraries\n",
                "\n"
            ]
        },
        {
            "cell_type": "code",
            "execution_count": null,
            "metadata": {},
            "outputs": [],
            "source": [
                "# Check if libraries are already installed > otherwise install it\n",
                "if(!requireNamespace(\"BiocManager\", quietly = TRUE)) install.packages(\"BiocManager\",repos = \"http://cran.us.r-project.org\")\n",
                "if(!\"jsonlite\" %in% installed.packages()) BiocManager::install(\"jsonlite\")\n",
                "if(!\"dplyr\" %in% installed.packages()) BiocManager::install(\"dplyr\")\n",
                "if(!\"ggplot2\" %in% installed.packages()) BiocManager::install(\"ggplot2\")\n",
                "if(!\"DESeq2\" %in% installed.packages()) BiocManager::install(\"DESeq2\")\n",
                "if(!\"clusterProfiler\" %in% installed.packages()) BiocManager::install(\"clusterProfiler\")\n",
                "\n",
                "# Load packages\n",
                "library(jsonlite)\n",
                "library(dplyr)\n",
                "library(DESeq2)\n",
                "library(clusterProfiler)\n",
                "library(ggplot2)\n"
            ]
        },
        {
            "cell_type": "markdown",
            "metadata": {},
            "source": [
                "## Data Preparations\n",
                "\n",
                "The following section will prepare input data to be used in the analysis\n"
            ]
        },
        {
            "cell_type": "code",
            "execution_count": null,
            "metadata": {},
            "outputs": [],
            "source": [
                "# Sets current path as working file path for all code chunks\n",
                "knitr::opts_knit$set(root.dir = \".\")\n",
                "\n",
                "# Read JSON file with all the pathways and the enzymes within into R object\n",
                "PW.all.enz <- fromJSON(\"data/all_pathways_enzymes_dict.json\")\n",
                "# Read JSON file with all the pathways codes and their names within into R object\n",
                "PW.all.names <- fromJSON(\"data/ec_pathway_names_dict.json\")\n",
                "\n",
                "# Read  the metagenomics data file\n",
                "mgxCount <- read.table(file = '../analysis/data/mgxData', sep = '\\t', header = TRUE)\n",
                "# Read metadata file sample labels\n",
                "metaData <- read.table(file = \"../analysis/data/metaData\", sep = '\\t', stringsAsFactors = TRUE, header = TRUE)\n",
                "\n",
                "# Turns the first row of mgxData (Gene.Family) into row name\n",
                "rownames(mgxCount) <- mgxCount[,1]\n",
                "mgxCount <- mgxCount[, -1]\n",
                "\n",
                "#metaData$diagnosis <- relevel(metaData$diagnosis,ref=\"nonIBD\")\n"
            ]
        },
        {
            "cell_type": "markdown",
            "metadata": {},
            "source": [
                "## Filtering Steps\n",
                "\n",
                "We will apply some filtering process to filter out genes in the input data\n"
            ]
        },
        {
            "cell_type": "code",
            "execution_count": null,
            "metadata": {},
            "outputs": [],
            "source": [
                "# Remove genes which has all zero values for all samples then start DE analysis\n",
                "mgxCount[is.na(mgxCount)] <- 0\n",
                "nonzero <- rowSums(mgxCount) > 0\n",
                "mgxCount <- mgxCount[nonzero,]\n",
                "\n",
                "remove(nonzero)\n"
            ]
        },
        {
            "cell_type": "markdown",
            "metadata": {},
            "source": [
                "## T-tests\n",
                "\n"
            ]
        },
        {
            "cell_type": "code",
            "execution_count": null,
            "metadata": {},
            "outputs": [],
            "source": [
                "# Separate CD, UC and nonIBD\n",
                "metaData.CD <- metaData[metaData$diagnosis==\"CD\",]\n",
                "metaData.UC <- metaData[metaData$diagnosis==\"UC\",]\n",
                "metaData.nonIBD <- metaData[metaData$diagnosis==\"nonIBD\",]\n",
                "\n",
                "# Select metagenomics data from CD, UC and nonIBD\n",
                "mgxCount.CD <- subset(mgxCount, select=metaData.CD$External.ID)\n",
                "mgxCount.UC <- subset(mgxCount, select=metaData.UC$External.ID)\n",
                "mgxCount.nonIBD <- subset(mgxCount, select=metaData.nonIBD$External.ID)\n",
                "\n",
                "remove(metaData.CD, metaData.UC, metaData.nonIBD, metaData, mgxCount)\n"
            ]
        },
        {
            "cell_type": "markdown",
            "metadata": {},
            "source": [
                "### T-tests for Crohn's Disease (CD)\n",
                "\n"
            ]
        },
        {
            "cell_type": "code",
            "execution_count": null,
            "metadata": {},
            "outputs": [],
            "source": [
                "# Compute statistical significance (using t-test)\n",
                "pValue.CD = NULL # Empty list for the p-values\n",
                "\n",
                "for(i in 1 : nrow(mgxCount.nonIBD)) { # For each gene : \n",
                "\tx = mgxCount.nonIBD[i,] # control of gene number i\n",
                "\ty = mgxCount.CD[i,] # CD of gene number i\n",
                "\t\n",
                "\t# Compute t-test between the two conditions\n",
                "\tt = t.test(x, y)\n",
                "\t\n",
                "\t# Put the current p-value in the pvalues list\n",
                "\tpValue.CD[i] = t$p.value\n",
                "}\n",
                "\n",
                "# Apply Benjamini Hochberg correction to pvalues to correct for multiple testing\n",
                "pAdjust.CD = p.adjust(pValue.CD, method=\"BH\", n= nrow(mgxCount.nonIBD))\n",
                "\n",
                "remove(pValue.CD, t, x, y, i)\n"
            ]
        },
        {
            "cell_type": "markdown",
            "metadata": {},
            "source": [
                "### T-tests for Ulcerative colitis (UC)\n",
                "\n"
            ]
        },
        {
            "cell_type": "code",
            "execution_count": null,
            "metadata": {},
            "outputs": [],
            "source": [
                "# Compute statistical significance (using t-test)\n",
                "pValue.UC = NULL # Empty list for the p-values\n",
                "\n",
                "for(i in 1 : nrow(mgxCount.nonIBD)) { # For each gene : \n",
                "\tx = mgxCount.nonIBD[i,] # control of gene number i\n",
                "\ty = mgxCount.UC[i,] # UC of gene number i\n",
                "\t\n",
                "\t# Compute t-test between the two conditions\n",
                "\tt = t.test(x, y)\n",
                "\t\n",
                "\t# Put the current p-value in the pvalues list\n",
                "\tpValue.UC[i] = t$p.value\n",
                "}\n",
                "\n",
                "# Apply Benjamini Hochberg correction to pvalues to correct for multiple testing\n",
                "pAdjust.UC = p.adjust(pValue.UC, method=\"BH\", n= nrow(mgxCount.nonIBD))\n",
                "\n",
                "remove(pValue.UC, t, x, y, i)\n"
            ]
        },
        {
            "cell_type": "markdown",
            "metadata": {},
            "source": [
                "### Select statistically significant enzymes for both CD and UC\n",
                "\n"
            ]
        },
        {
            "cell_type": "code",
            "execution_count": null,
            "metadata": {},
            "outputs": [],
            "source": [
                "# Select statistically significant enzymes\n",
                "deg.CD <- mgxCount.CD[which(pAdjust.CD<0.05),]\n",
                "deg.CD$pAdjust <- pAdjust.CD[which(pAdjust.CD<0.05)]\n",
                "deg.UC <- mgxCount.UC[which(pAdjust.UC<0.05),]\n",
                "deg.UC$pAdjust <- pAdjust.UC[which(pAdjust.UC<0.05)]\n",
                "\n",
                "# Get the row names and split them at the colon\n",
                "deg.UC.EC <- row.names(deg.UC)\n",
                "deg.UC.EC <- lapply(strsplit(deg.UC.EC, \":\"), \"[[\", 1)\n",
                "deg.CD.EC <- row.names(deg.CD)\n",
                "deg.CD.EC <- lapply(strsplit(deg.CD.EC, \":\"), \"[[\", 1)\n",
                "\n",
                "remove(pAdjust.CD, pAdjust.UC)\n"
            ]
        },
        {
            "cell_type": "markdown",
            "metadata": {},
            "source": [
                "\n",
                "## Venn diagram for showing the difference between sign. changed enyzmes between CD and UC\n"
            ]
        },
        {
            "cell_type": "code",
            "execution_count": null,
            "metadata": {},
            "outputs": [],
            "source": [
                "# Load library\n",
                "library(VennDiagram)\n",
                "\n",
                "# Prepare a palette of 3 colors with R colorbrewer:\n",
                "library(RColorBrewer)\n",
                "myCol <- brewer.pal(3, \"Pastel2\")\n",
                "\n",
                "# Chart\n",
                "venn.diagram(\n",
                "        x = list(deg.CD.EC, deg.UC.EC ),\n",
                "        category.names = c(\"CD\" , \"UC \" ),\n",
                "        filename = 'CD_UC_venn_diagram.png',\n",
                "        output=TRUE,\n",
                "\n",
                "        # Output features\n",
                "        imagetype=\"png\" ,\n",
                "        height = 680 ,\n",
                "        width = 680 ,\n",
                "        resolution = 300,\n",
                "        compression = \"lzw\",\n",
                "        # \n",
                "        # Circles\n",
                "        lwd = 2,\n",
                "        lty = 'blank',\n",
                "        fill = myCol[1:2],\n",
                "\n",
                "        # Numbers\n",
                "        cex = .6,\n",
                "        fontface = \"bold\",\n",
                "        fontfamily = \"sans\",\n",
                "        \n",
                "       #  # Set names\n",
                "       #  cat.cex = 0.6,\n",
                "       #  cat.fontface = \"bold\",\n",
                "       #  cat.default.pos = \"outer\",\n",
                "       # cat.pos = c(-27, 27, 135),\n",
                "       #  cat.dist = c(0.055, 0.055, 0.085),\n",
                "       #  cat.fontfamily = \"sans\",\n",
                "       #  rotation = 1\n",
                ")\n"
            ]
        },
        {
            "cell_type": "markdown",
            "metadata": {},
            "source": [
                "## Calculate the ORA score for each pathway\n",
                "\n",
                "### ORA score for Crohn's Disease (CD)\n"
            ]
        },
        {
            "cell_type": "code",
            "execution_count": null,
            "metadata": {},
            "outputs": [],
            "source": [
                "deg.nonIBD.EC <- row.names(mgxCount.nonIBD)\n",
                "deg.nonIBD.EC <- lapply(strsplit(deg.nonIBD.EC, \":\"), \"[[\", 1)\n",
                "\n",
                "PW.to.enzyme <- as.data.frame(t(as.data.frame(sapply(PW.all.enz, rbind))))\n",
                "PW.to.enzyme$pathway <- rownames(PW.to.enzyme)\n",
                "colnames(PW.to.enzyme) <- c(\"enzyme\", \"pathway\")\n",
                "PW.to.enzyme <- PW.to.enzyme[,c(2,1)]\n",
                "PW.to.enzyme$pathway <- sub(\"\\\\..*\", \"\", PW.to.enzyme$pathway)\n",
                "\n",
                "PW.to.name <- data.frame(\"pathway\"=names(PW.all.names), \"name\"=unlist(PW.all.names))\n",
                "\n",
                "res.CD <- enricher(gene=as.factor(unlist(deg.CD.EC)),\n",
                "                TERM2GENE = PW.to.enzyme,\n",
                "                TERM2NAME = PW.to.name)\n",
                "\n",
                "summary(res.CD)\n"
            ]
        },
        {
            "cell_type": "markdown",
            "metadata": {},
            "source": [
                "### ORA score for Ulcerative colitis (UC)\n",
                "\n"
            ]
        },
        {
            "cell_type": "code",
            "execution_count": null,
            "metadata": {},
            "outputs": [],
            "source": [
                "res.UC <- enricher(gene=as.factor(unlist(deg.UC.EC)),\n",
                "                TERM2GENE = PW.to.enzyme,\n",
                "                TERM2NAME = PW.to.name)\n",
                "\n",
                "summary(res.UC)\n"
            ]
        },
        {
            "cell_type": "markdown",
            "metadata": {},
            "source": [
                "## Plot the results in a horizontal bar chart\n",
                "\n",
                "### Plot for Crohn's Disease (CD)\n"
            ]
        },
        {
            "cell_type": "code",
            "execution_count": null,
            "metadata": {},
            "outputs": [],
            "source": [
                "res.CD[which(res.CD$p.adjust < 0.05),] %>% \n",
                "  ggplot(aes(reorder(as.character(Description), Count), Count)) + \n",
                "  geom_col(aes(fill = p.adjust)) + \n",
                "  scale_fill_gradient2(low = \"#0000ff\", \n",
                "                       mid = \"#ff0000\",\n",
                "                       high= \"yellow\",\n",
                "                       midpoint = 0.001) +\n",
                "  coord_flip() + \n",
                "  labs(x = \"Pathways (CD)\", y = \"Enzyme count\")\n"
            ]
        },
        {
            "cell_type": "markdown",
            "metadata": {},
            "source": [
                "### Plot for Ulcerative colitis (UC)\n",
                "\n"
            ]
        },
        {
            "cell_type": "code",
            "execution_count": null,
            "metadata": {},
            "outputs": [],
            "source": [
                "# Horizontal bar plot of significant pathways in UC\n",
                "res.UC[which(res.UC$p.adjust < 0.05),] %>% \n",
                "  ggplot(aes(reorder(as.character(Description), Count), Count)) + \n",
                "  geom_col(aes(fill = p.adjust)) + \n",
                "  scale_fill_gradient2(low = \"#0000ff\", \n",
                "                       mid = \"#ff0000\",\n",
                "                       high= \"yellow\",\n",
                "                       midpoint = 0.001) +\n",
                "  coord_flip() + \n",
                "  labs(x = \"Pathways (UC)\", y = \"Enzyme count\")\n"
            ]
        },
        {
            "cell_type": "markdown",
            "metadata": {},
            "source": [
                "## Writing output tables in csv file\n",
                "\n"
            ]
        },
        {
            "cell_type": "code",
            "execution_count": null,
            "metadata": {},
            "outputs": [],
            "source": [
                "# Write the output in a file\n",
                "write.table(res.UC, \"output/mgxPWdata_UC.csv\", sep =\",\", row.names = FALSE)\n",
                "\n",
                "# Write the output in a file\n",
                "write.table(res.CD, \"output/mgxPWdata_CD.csv\", sep =\",\", row.names = FALSE)\n"
            ]
        },
        {
            "cell_type": "markdown",
            "metadata": {},
            "source": [
                "## Print session info:\n",
                "\n"
            ]
        },
        {
            "cell_type": "code",
            "execution_count": null,
            "metadata": {},
            "outputs": [],
            "source": [
                "##Print session info:\n",
                "sessionInfo()\n"
            ]
        },
        {
            "cell_type": "markdown",
            "metadata": {},
            "source": [
                "\n",
                "## Creating jupyter notebook files\n"
            ]
        },
        {
            "cell_type": "code",
            "execution_count": null,
            "metadata": {},
            "outputs": [],
            "source": [
                "#Jupyter Notebook file\n",
                "if(!\"devtools\" %in% installed.packages()) BiocManager::install(\"devtools\")\n",
                "devtools::install_github(\"mkearney/rmd2jupyter\", force=TRUE)\n",
                "library(devtools)\n",
                "library(rmd2jupyter)\n",
                "rmd2jupyter(\"metagenomics_analysis.Rmd\")\n"
            ]
        },
        {
            "cell_type": "markdown",
            "metadata": {},
            "source": "\n"
        }
    ],
    "metadata": {
        "anaconda-cloud": "",
        "kernelspec": {
            "display_name": "R",
            "langauge": "R",
            "name": "ir"
        },
        "language_info": {
            "codemirror_mode": "r",
            "file_extension": ".r",
            "mimetype": "text/x-r-source",
            "name": "R",
            "pygments_lexer": "r",
            "version": "3.4.1"
        }
    },
    "nbformat": 4,
    "nbformat_minor": 1
}
