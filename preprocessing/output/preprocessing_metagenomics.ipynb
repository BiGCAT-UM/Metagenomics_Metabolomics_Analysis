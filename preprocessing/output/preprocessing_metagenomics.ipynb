{
    "cells": [
        {
            "cell_type": "markdown",
            "metadata": {},
            "source": [
                "Preprocessing step includes filter out samples from metadata of the study\n",
                "Since we are only focusing on metagenomics samples\n",
                "\n",
                "## Install and load required libraries and setup environment\n"
            ]
        },
        {
            "cell_type": "code",
            "execution_count": null,
            "metadata": {},
            "outputs": [],
            "source": [
                "library(rstudioapi)\n",
                "library(dplyr)\n",
                "library(tidyr)\n",
                "library(stringr)\n",
                "library(magrittr)\n",
                "library(utils)\n"
            ]
        },
        {
            "cell_type": "markdown",
            "metadata": {},
            "source": [
                "\n",
                "## Read metadata and filter out samples\n"
            ]
        },
        {
            "cell_type": "code",
            "execution_count": null,
            "metadata": {},
            "outputs": [],
            "source": [
                "if(file.exists(\"data/hmp2_metadata.csv\")){print(\"metadata already downloaded\")}else{\n",
                "fileUrl <- \"https://ibdmdb.org/tunnel/products/HMP2/Metadata/hmp2_metada.csv\"\n",
                "utils::download.file(url, \"data/hmp2_metada.csv\", mode = \"wb\")\n",
                "}\n",
                "#read metadata\n",
                "metaData <- read.csv(\"data/hmp2_metadata.csv\")\n",
                "#filter out samples by data type column \n",
                "metaData <- metaData[metaData$data_type== \"metagenomics\",]\n",
                "\n",
                "#to see how many participants avaliable in each participant/subject in metagenomics data\n",
                "groupsParticipant <- metaData %>% group_by(Participant.ID) %>%\n",
                "                                  summarise(total_samples = n (),\n",
                "                                  .groups = 'drop')\n",
                "                                  \n",
                "#samples have different visit numbers so we need to take one of them as a baseline\n",
                "metaData <- metaData[metaData$visit_num == 4,]\n",
                "#filter out unused columns \n",
                "metaData <- metaData [,c(\"External.ID\",\"Participant.ID\",\"diagnosis\")]\n"
            ]
        },
        {
            "cell_type": "markdown",
            "metadata": {},
            "source": [
                "\n",
                "## Read metagenomic data and filter out by selected samples in metadata\n"
            ]
        },
        {
            "cell_type": "code",
            "execution_count": null,
            "metadata": {},
            "outputs": [],
            "source": [
                "if(file.exists(\"data/ecs_3.tsv\"))\n",
                "  {print(\"ecs data already exist\")\n",
                "}else\n",
                "  {\n",
                "  print(\"ecs data will be downloaded from URL\")\n",
                "  fileUrl <- \"https://ibdmdb.org/tunnel/products/HMP2/WGS/1818/ecs_3.tsv.gz\"\n",
                "  utils::download.file(fileUrl, \"data/ecs_3.tsv.gz\", mode = \"wb\")\n",
                "  R.utils::gunzip(\"data/ecs_3.tsv.gz\")\n",
                "  }\n",
                "\n",
                "#read metagenomics data \n",
                "mgxData <- read.csv(\"data/ecs_3.tsv\", sep = \"\\t\")\n",
                "#optional step having backup before continue\n",
                "mgxData.backup <- mgxData \n",
                "\n",
                "#filter out gene families/rows which is not assigned and named ungrouped\n",
                "mgxData <- mgxData %>% dplyr:: filter(!grepl('UNGROUPED|UNMAPPED', Feature.Sample))\n",
                "#take only first row for each group of row to perform community-level pathway analysis \n",
                "\n",
                "#to do species-specific pathway analysis we need to skip the first row then take the rest \n",
                "#take rows  containing \"|\" character, so we can skip the first row \n",
                "mgxData <- mgxData %>% dplyr:: filter(grepl(\"\\\\|\", Feature.Sample)) \n",
                "\n",
                "#split feature.Sample as gene family and others\n",
                "mgxData <- mgxData %>% tidyr:: separate(Feature.Sample, c(\"Gene Family\", \"other\"), \"\\\\|\")\n",
                "#split others as genus and species\n",
                "mgxData <- mgxData %>% tidyr:: separate(other, c(\"Genus\", \"Species\"), \"\\\\.\")\n",
                "\n",
                "#remove _g and _s from row content\n",
                "mgxData$Genus <- gsub(\"g__\",\"\",mgxData$Genus)\n",
                "mgxData$Species<- gsub(\"s__\",\"\",mgxData$Species)\n",
                "\n",
                "#remove \"_level4ec\" from colnames of mgxData\n",
                "colnames(mgxData) <- sub(\"_level4ec.*\", \"\", colnames(mgxData))\n"
            ]
        },
        {
            "cell_type": "markdown",
            "metadata": {},
            "source": [
                "\n",
                "## Organize metaData and metagenomic data \n"
            ]
        },
        {
            "cell_type": "code",
            "execution_count": null,
            "metadata": {},
            "outputs": [],
            "source": [
                "# store mgxData without the first three columns as tmp\n",
                "tmp <- mgxData[,c(4:ncol(mgxData))]\n",
                "\n",
                "#select samples that only exist in metadata\n",
                "tmp <- tmp[names(tmp) %in% metaData$External.ID]\n",
                "\n",
                "#there is one sample which does not exist in metadata so we need to delete it \n",
                "#see difference between two sample vectors\n",
                "notExistSample <- setdiff( metaData$External.ID,colnames(tmp))\n",
                "\n",
                "#delete not exist sample from metadata\n",
                "metaData <- metaData [!(metaData$External.ID==notExistSample),]\n",
                "\n",
                "#order both metaData and mgxData based on sample names\n",
                "metaData <- metaData[order(metaData$External.ID),]\n",
                "tmp <- tmp[,order(colnames (tmp))]\n",
                "# Check whether sample names are in same order\n",
                "all(colnames(tmp) == metaData$External.ID) \n",
                "\n",
                "#bind first three columns to the tmp data again \n",
                "mgxData <- cbind(mgxData[,c(1:3)],tmp  )\n"
            ]
        },
        {
            "cell_type": "markdown",
            "metadata": {},
            "source": "## Filter out gene families which has all zero values across all samples or samples across all genes\n"
        },
        {
            "cell_type": "code",
            "execution_count": null,
            "metadata": {},
            "outputs": [],
            "source": [
                "#remove gene families which have all zero values across all samples then start DE analysis\n",
                "BACKUP <- mgxData\n",
                "\n",
                "#convert character data frame to a numeric data frame\n",
                "tmp <- as.data.frame(sapply(mgxData[,c(4:ncol(mgxData))], as.numeric))\n",
                "mgxData <- cbind(mgxData[,c(1:3)],tmp)\n",
                "\n",
                "# assign 0 value to NA values in the data frame\n",
                "mgxData[is.na(mgxData)] <- 0\n",
                "#detect which rows have a total row sum >  0 \n",
                "nonzero <- rowSums(mgxData[,c(4:ncol(mgxData))]) > 0\n",
                "#then take only these rows\n",
                "mgxData %<>% .[nonzero,]\n",
                "\n",
                "#filter out rows which has unclassified genus column\n",
                "mgxData <- mgxData %>% dplyr:: filter(!grepl(\"unclassified\", Genus)) \n"
            ]
        },
        {
            "cell_type": "markdown",
            "metadata": {},
            "source": [
                "\n",
                "## Export preprocessed data to file\n"
            ]
        },
        {
            "cell_type": "code",
            "execution_count": null,
            "metadata": {},
            "outputs": [],
            "source": [
                "write.table(metaData, \"output/metaData\", sep = \"\\t\",row.names = FALSE,quote=FALSE)\n",
                "write.table(mgxData, \"output/mgxData\", sep = \"\\t\",row.names = FALSE,quote=FALSE )\n"
            ]
        },
        {
            "cell_type": "markdown",
            "metadata": {},
            "source": [
                "\n",
                "## Creating jupyter notebook files\n"
            ]
        },
        {
            "cell_type": "code",
            "execution_count": null,
            "metadata": {},
            "outputs": [],
            "source": [
                "#Jupyter Notebook file\n",
                "if(!\"devtools\" %in% installed.packages()) BiocManager::install(\"devtools\")\n",
                "devtools::install_github(\"mkearney/rmd2jupyter\", force=TRUE)\n",
                "library(devtools)\n",
                "library(rmd2jupyter)\n",
                "rmd2jupyter(\"preprocessing_metagenomics.Rmd\")\n"
            ]
        },
        {
            "cell_type": "markdown",
            "metadata": {},
            "source": [
                "\n",
                "\n"
            ]
        }
    ],
    "metadata": {
        "anaconda-cloud": "",
        "kernelspec": {
            "display_name": "R",
            "langauge": "R",
            "name": "ir"
        },
        "language_info": {
            "codemirror_mode": "r",
            "file_extension": ".r",
            "mimetype": "text/x-r-source",
            "name": "R",
            "pygments_lexer": "r",
            "version": "3.4.1"
        }
    },
    "nbformat": 4,
    "nbformat_minor": 1
}
