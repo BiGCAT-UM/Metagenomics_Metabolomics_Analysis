{
    "cells": [
        {
            "cell_type": "markdown",
            "metadata": {},
            "source": [
                "Preprocessing step includes filter out samples from metadata of the study\n",
                "Since we are only focusing on metabolomics samples\n",
                "\n",
                "## Install and load required libraries and setup environment\n"
            ]
        },
        {
            "cell_type": "code",
            "execution_count": null,
            "metadata": {},
            "outputs": [],
            "source": [
                "library(rstudioapi)\n",
                "library(dplyr)\n",
                "library(tidyr)\n",
                "library(stringr)\n",
                "library(magrittr)\n",
                "library(utils)\n"
            ]
        },
        {
            "cell_type": "markdown",
            "metadata": {},
            "source": [
                "\n",
                "## Read metadata and filter out samples\n"
            ]
        },
        {
            "cell_type": "code",
            "execution_count": null,
            "metadata": {},
            "outputs": [],
            "source": [
                "if(file.exists(\"data/hmp2_metadata.csv\")){print(\"metadata already downloaded\")}else{\n",
                "fileUrl <- \"https://ibdmdb.org/tunnel/products/HMP2/Metadata/hmp2_metadata.csv\"\n",
                "utils::download.file(fileUrl, \"data/hmp2_metadata.csv\", mode = \"wb\")\n",
                "}\n",
                "#read metadata\n",
                "metaData <- read.csv(\"data/hmp2_metadata.csv\")\n",
                "#filter out samples by data type column \n",
                "metaData <- metaData[metaData$data_type== \"metabolomics\",]\n",
                "\n",
                "#to see how many participants avaliable in each participant/subject in metabolomics data\n",
                "groupsParticipant <- metaData %>% group_by(Participant.ID) %>%\n",
                "                                  summarise(total_samples = n (),\n",
                "                                  .groups = 'drop')\n",
                "                                  \n",
                "#samples have different visit numbers so we need to take one of them as a baseline\n",
                "metaData <- metaData[metaData$visit_num == 4,]\n",
                "#filter out unused columns \n",
                "metaData <- metaData [,c(\"External.ID\",\"Participant.ID\",\"diagnosis\")]\n"
            ]
        },
        {
            "cell_type": "markdown",
            "metadata": {},
            "source": [
                "\n",
                "## Read metabolomics data and filter out by selected samples in metadata\n"
            ]
        },
        {
            "cell_type": "code",
            "execution_count": null,
            "metadata": {},
            "outputs": [],
            "source": [
                "if(file.exists(\"data/HMP2_metabolomics.csv\"))\n",
                "  {print(\"metabolomics data already exist\")\n",
                "}else\n",
                "  {\n",
                "  print(\"ecs data will be downloaded from URL\")\n",
                "  fileUrl <- \"https://ibdmdb.org/tunnel/products/HMP2/Metabolites/1723/HMP2_metabolomics.csv.gz\"\n",
                "  utils::download.file(fileUrl, \"data/HMP2_metabolomics.csv.gz\", mode = \"wb\")\n",
                "  R.utils::gunzip(\"data/HMP2_metabolomics.csv.gz\")\n",
                "  }\n",
                "\n",
                "#read metabolomics data \n",
                "mbxData <- read.csv(\"data/HMP2_metabolomics.csv\", sep = \",\")\n",
                "#optional step having backup before continue\n",
                "mbxData.backup <- mbxData\n",
                "# Remove rows with empty HMDB\n",
                "mbxData <- mbxData[mbxData$HMDB...Representative.ID. != \"\", ]\n",
                "# Remove rows with \"redundant ion\" in HMDB column\n",
                "mbxData <- mbxData[mbxData$HMDB...Representative.ID. != \"redundant ion\", ]\n",
                "# Remove rows with NA HMDB\n",
                "mbxData <- mbxData[!is.na(mbxData$HMDB...Representative.ID.), ]\n",
                "# Remove parameters columns from the metabolomics\n",
                "mbxData <- mbxData[,-c(1:4, 7)]\n",
                "# Rename the HMDB column\n",
                "colnames(mbxData)[1] <- \"HMDB\"\n",
                "# Remove \"*\" suffix in HMDB column\n",
                "mbxData$HMDB <- gsub(\"\\\\*\", \"\", mbxData$HMDB)\n"
            ]
        },
        {
            "cell_type": "markdown",
            "metadata": {},
            "source": [
                "\n",
                "## Organize metaData and metabolomics data \n"
            ]
        },
        {
            "cell_type": "code",
            "execution_count": null,
            "metadata": {},
            "outputs": [],
            "source": [
                "# store mbxData without the first two columns as tmp\n",
                "tmp <- mbxData[,c(3:ncol(mbxData))]\n",
                "\n",
                "#select samples that only exist in metadata\n",
                "tmp <- tmp[names(tmp) %in% metaData$External.ID]\n",
                "\n",
                "#there is no sample which does not exist in metadata\n",
                "#see difference between two sample vectors\n",
                "notExistSample <- setdiff( metaData$External.ID,colnames(tmp))\n",
                "\n",
                "#order both metaData and mbxData based on sample names\n",
                "metaData <- metaData[order(metaData$External.ID),]\n",
                "tmp <- tmp[,order(colnames (tmp))]\n",
                "# Check whether sample names are in same order\n",
                "all(colnames(tmp) == metaData$External.ID)\n",
                "\n",
                "#bind first two columns to the tmp data again \n",
                "mbxData <- cbind(mbxData[,c(1:2)],tmp  )\n"
            ]
        },
        {
            "cell_type": "markdown",
            "metadata": {},
            "source": "## Filter out metabolites which has all zero values across all samples or samples across all metabolites\n"
        },
        {
            "cell_type": "code",
            "execution_count": null,
            "metadata": {},
            "outputs": [],
            "source": [
                "#remove metabolomics which have all zero values across all samples then start DE analysis\n",
                "BACKUP <- mbxData\n",
                "\n",
                "#convert character data frame to a numeric data frame\n",
                "tmp <- as.data.frame(sapply(mbxData[,c(3:ncol(mbxData))], as.numeric))\n",
                "mbxData <- cbind(mbxData[,c(1:2)],tmp)\n",
                "\n",
                "# assign 0 value to NA values in the data frame\n",
                "mbxData[is.na(mbxData)] <- 0\n",
                "#detect which rows have a total row sum >  0 \n",
                "nonzero <- rowSums(mbxData[,c(3:ncol(mbxData))]) > 0\n",
                "#then take only these rows\n",
                "mbxData %<>% .[nonzero,]\n"
            ]
        },
        {
            "cell_type": "markdown",
            "metadata": {},
            "source": [
                "\n",
                "## Export preprocessed data to file\n"
            ]
        },
        {
            "cell_type": "code",
            "execution_count": null,
            "metadata": {},
            "outputs": [],
            "source": [
                "write.table(metaData, \"output/mbxMetaData\", sep = \"\\t\",row.names = FALSE,quote=FALSE)\n",
                "write.table(mbxData, \"output/mbxData\", sep = \"\\t\",row.names = FALSE,quote=FALSE )\n",
                "write.table(mbxData$HMDB, \"output/HMDB.csv\", sep = \",\", row.names = FALSE, col.names = FALSE, quote = FALSE)\n"
            ]
        },
        {
            "cell_type": "markdown",
            "metadata": {},
            "source": [
                "\n",
                "## Creating jupyter notebook files\n"
            ]
        },
        {
            "cell_type": "code",
            "execution_count": null,
            "metadata": {},
            "outputs": [],
            "source": [
                "#Jupyter Notebook file\n",
                "if(!\"devtools\" %in% installed.packages()) BiocManager::install(\"devtools\")\n",
                "devtools::install_github(\"mkearney/rmd2jupyter\", force=TRUE)\n",
                "library(devtools)\n",
                "library(rmd2jupyter)\n",
                "rmd2jupyter(\"preprocessing_metabolomics.Rmd\")\n"
            ]
        }
    ],
    "metadata": {
        "anaconda-cloud": "",
        "kernelspec": {
            "display_name": "R",
            "langauge": "R",
            "name": "ir"
        },
        "language_info": {
            "codemirror_mode": "r",
            "file_extension": ".r",
            "mimetype": "text/x-r-source",
            "name": "R",
            "pygments_lexer": "r",
            "version": "3.4.1"
        }
    },
    "nbformat": 4,
    "nbformat_minor": 1
}
